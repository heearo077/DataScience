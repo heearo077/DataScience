{
 "cells": [
  {
   "cell_type": "markdown",
   "id": "0f8cccc2-0e2b-4b02-b361-38dd3105e5d8",
   "metadata": {},
   "source": [
    "# Data Science Tools and Ecosystem"
   ]
  },
  {
   "cell_type": "markdown",
   "id": "9aa148e2-6e9e-4ef1-818c-6262e12a341f",
   "metadata": {},
   "source": [
    "In this notebook, Data Science Tools and Ecosystem are summarized."
   ]
  },
  {
   "cell_type": "markdown",
   "id": "f35962d0-c758-4fb7-93fa-60965fae41c8",
   "metadata": {},
   "source": [
    "**Objectives:**\n",
    "\n",
    "- List popular languages for Data Science\n",
    "- Discuss commonly used libraries for Data Science\n",
    "- Create and manipulate tables in Markdown\n",
    "- Evaluate arithmetic expressions in Python\n",
    "- Convert time units (e.g., minutes to hours)"
   ]
  },
  {
   "cell_type": "markdown",
   "id": "94c2718c-fef3-412a-a9bb-d7188e6c7ff0",
   "metadata": {},
   "source": [
    "Some of the popular languages that Data Scientists use are:\n",
    "1. Python\n",
    "2. R\n",
    "3. SQL\n",
    "4. Julia\n",
    "5. Java"
   ]
  },
  {
   "cell_type": "markdown",
   "id": "38db38fc-97d9-4020-b5aa-85cc76dcd133",
   "metadata": {},
   "source": [
    "Some of the commonly used libraries by Data Scientists include:\n",
    "\n",
    "1. Pandas\n",
    "2. NumPy\n",
    "3. Matplotlib\n",
    "4. Scikit-learn\n",
    "5. TensorFlow\n",
    "6. Keras\n",
    "7. PyTorch"
   ]
  },
  {
   "cell_type": "markdown",
   "id": "e50551e6-bfe2-47e6-b23b-5a8b8c1f8514",
   "metadata": {},
   "source": [
    "| Data Science Tools         |\n",
    "|----------------------------|\n",
    "| Jupyter Notebook           |\n",
    "| RStudio                    |\n",
    "| Apache Zeppelin            |"
   ]
  },
  {
   "cell_type": "markdown",
   "id": "871703d0-dd25-4c88-908e-c1d9f53e1158",
   "metadata": {},
   "source": [
    "### Below are a few examples of evaluating arithmetic expressions in Python."
   ]
  },
  {
   "cell_type": "code",
   "execution_count": 9,
   "id": "7b01f7e2-a12e-46ab-bbfd-e43ba768094a",
   "metadata": {},
   "outputs": [
    {
     "data": {
      "text/plain": [
       "17"
      ]
     },
     "execution_count": 9,
     "metadata": {},
     "output_type": "execute_result"
    }
   ],
   "source": [
    "# This a simple arithmetic expression to mutiply then add integers\n",
    "(3*4)+5"
   ]
  },
  {
   "cell_type": "code",
   "execution_count": 10,
   "id": "afcbb87b-0935-4ea7-92a6-7f698b6e2496",
   "metadata": {},
   "outputs": [
    {
     "data": {
      "text/plain": [
       "3.3333333333333335"
      ]
     },
     "execution_count": 10,
     "metadata": {},
     "output_type": "execute_result"
    }
   ],
   "source": [
    "# This will convert 200 minutes to hours by diving by 60\n",
    "200/60"
   ]
  },
  {
   "cell_type": "markdown",
   "id": "748e2574-000b-46a5-b87d-e7111d387730",
   "metadata": {},
   "source": [
    "## Author\n",
    "Sangkwon Lee"
   ]
  }
 ],
 "metadata": {
  "kernelspec": {
   "display_name": "Python 3 (ipykernel)",
   "language": "python",
   "name": "python3"
  },
  "language_info": {
   "codemirror_mode": {
    "name": "ipython",
    "version": 3
   },
   "file_extension": ".py",
   "mimetype": "text/x-python",
   "name": "python",
   "nbconvert_exporter": "python",
   "pygments_lexer": "ipython3",
   "version": "3.12.7"
  }
 },
 "nbformat": 4,
 "nbformat_minor": 5
}
